{
 "cells": [
  {
   "cell_type": "code",
   "execution_count": 4,
   "metadata": {},
   "outputs": [],
   "source": [
    "import os\n",
    "import itertools"
   ]
  },
  {
   "cell_type": "code",
   "execution_count": 11,
   "metadata": {},
   "outputs": [],
   "source": [
    "root = os.path.join(os. getcwd(), 'data')\n",
    "repos = [x for x in os.listdir(root)]\n",
    "repo_pairs = itertools.product(repos, repeat=2)\n",
    "repo_pairs_no_diagonal = [(x, y) for (x, y) in tuple(repo_pairs) if x != y]"
   ]
  },
  {
   "cell_type": "code",
   "execution_count": null,
   "metadata": {},
   "outputs": [],
   "source": [
    "# remove package names, forked from CCFinder RJ1\n",
    "# e.g.: \"abi.encode(payload)\" => \"encode(payload)\"\n",
    "def transformation_rule_1(line):\n",
    "    pass\n",
    "\n",
    "# convert to compound block, forked from CCFinder RC6/RJ6\n",
    "# e.g.: \"if(True) return;\" => \"if(True) {return;}\"\n",
    "def transformation_rule_3(line):\n",
    "    pass\n",
    "\n",
    "# replace all parameters from [VARIABLE_NAME] to $p\n",
    "def parameter_replacement(line):\n",
    "    pass\n"
   ]
  },
  {
   "cell_type": "code",
   "execution_count": 52,
   "metadata": {},
   "outputs": [],
   "source": [
    "import re\n",
    "\n",
    "def remove_comment(text):\n",
    "    string = re.sub(re.compile(\"/\\*.*?\\*/\",re.DOTALL ), \"\", text) \n",
    "    # remove all occurrences streamed comments (/*COMMENT */) from string\n",
    "    string = re.sub(re.compile(\"//.*?\\n\" ), \"\", string) \n",
    "    # remove all occurrence single-line comments (//COMMENT\\n ) from string\n",
    "    return string\n",
    "\n",
    "dictionary_space = (\" \", \"\\t\", \"\\n\")\n",
    "def remove_space(text):\n",
    "    lines = []\n",
    "    for line in text.split(\"\\n\"):\n",
    "        lines.append(\" \".join([word.strip() for word in line.split(\" \") if word.strip()]))\n",
    "    #text = \"\\n\".join(lines)\n",
    "    text = \"\\n\".join([line.strip(\"\".join(dictionary_space)) for line in lines])\n",
    "    return text\n",
    "\n",
    "\n",
    "# remove accessibility keywords, forked from CCFinder RC5\n",
    "# e.g.: \"function owner() public view returns (address) {\"\n",
    "# => \"function owner() returns (address) {\"\n",
    "dictionary_function_keywords = (\n",
    "    \"public\", \"private\", \"external\", \"internal\", \"view\", \"payable\", \"pure\", \n",
    "    \"indexed\", # for event\n",
    "    \"override\", \"virtual\" # for polymorphism\n",
    ")\n",
    "def transformation_rule_2(text):\n",
    "    pattern = re.compile(\"|\".join(\n",
    "        [keyword for keyword in dictionary_function_keywords]), re.DOTALL)\n",
    "    return re.sub(pattern, \"\", text) \n",
    "\n",
    "dictionary_operator = (\n",
    "    \"\\(\", \"\\)\", \"\\[\", \"\\]\", \"\\{\", \"\\}\",\n",
    "    \"==\", \"!=\", \">=\", \"<=\", \"\\>\", \"\\<\", \"\\!\", \"\\=\", \n",
    "    \"=>\", \"\\.\", \"\\|\\|\", \"\\&\\&\"\n",
    "    \"\\+\", \"\\-\", \"\\*\", \"\\%\", \"\\\\\\\\\", # div\n",
    "    \";\", \"\\+\\+\", \"\\-\\-\"\n",
    ")\n",
    "def insert_white_space(text):\n",
    "    indices = [m.start() for m in re.finditer(\"|\".join(\n",
    "        [operator for operator in dictionary_operator]), text)]\n",
    "    chunks = []\n",
    "    target = text\n",
    "    for i in reversed(range(len(indices))):\n",
    "        chunks.append(\" \" + target[indices[i]] + \" \" + target[indices[i]+1:] )\n",
    "        chunks.append(target[:indices[i]])\n",
    "        target = chunks.pop()\n",
    "    chunks.reverse()\n",
    "    return \"\".join(chunks)\n",
    "\n",
    "    "
   ]
  },
  {
   "cell_type": "code",
   "execution_count": 53,
   "metadata": {},
   "outputs": [],
   "source": [
    "file_name = \"TokenManager.sol\"\n",
    "output_file_name = \"TokenManager.sol.out\"\n",
    "with open(file_name, encoding=\"utf-8\") as f:\n",
    "    content = f.read()\n",
    "\n",
    "content = remove_comment(content)\n",
    "\n",
    "content = transformation_rule_2(content)\n",
    "content = insert_white_space(content)\n",
    "content = remove_space(content)\n",
    "\n",
    "with open(output_file_name, \"w\") as f:\n",
    "    f.write(content)"
   ]
  }
 ],
 "metadata": {
  "kernelspec": {
   "display_name": "Python 3.10.3 64-bit",
   "language": "python",
   "name": "python3"
  },
  "language_info": {
   "codemirror_mode": {
    "name": "ipython",
    "version": 3
   },
   "file_extension": ".py",
   "mimetype": "text/x-python",
   "name": "python",
   "nbconvert_exporter": "python",
   "pygments_lexer": "ipython3",
   "version": "3.10.3"
  },
  "orig_nbformat": 4,
  "vscode": {
   "interpreter": {
    "hash": "369f2c481f4da34e4445cda3fffd2e751bd1c4d706f27375911949ba6bb62e1c"
   }
  }
 },
 "nbformat": 4,
 "nbformat_minor": 2
}
