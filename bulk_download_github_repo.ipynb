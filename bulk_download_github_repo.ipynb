{
 "cells": [
  {
   "cell_type": "code",
   "execution_count": 28,
   "metadata": {},
   "outputs": [],
   "source": [
    "import requests\n",
    "import json\n",
    "from tqdm import tqdm\n",
    "import os\n",
    "import git\n",
    "import shutil\n",
    "import stat\n"
   ]
  },
  {
   "cell_type": "code",
   "execution_count": 8,
   "metadata": {},
   "outputs": [],
   "source": [
    "# https://github.com/search?l=&p=67&q=language%3ASolidity&type=Repositories\n",
    "url = f\"https://api.github.com/search/repositories?q=language:Solidity&per_page=100&page={}\"\n",
    "response = requests.get(url)\n",
    "with open('github_solidity_repo.json', 'w', encoding='utf8') as f:\n",
    "    f.write(json.dumps(response.json(), indent=2))"
   ]
  },
  {
   "cell_type": "code",
   "execution_count": 23,
   "metadata": {},
   "outputs": [
    {
     "name": "stderr",
     "output_type": "stream",
     "text": [
      " 52%|█████▏    | 52/100 [01:42<03:07,  3.90s/it]"
     ]
    },
    {
     "name": "stdout",
     "output_type": "stream",
     "text": [
      "Journey-to-become-a-Blockchain-Engineer has a GitCommandError. Skipped.\n"
     ]
    },
    {
     "name": "stderr",
     "output_type": "stream",
     "text": [
      " 77%|███████▋  | 77/100 [02:12<00:26,  1.15s/it]"
     ]
    },
    {
     "name": "stdout",
     "output_type": "stream",
     "text": [
      "book has a GitCommandError. Skipped.\n"
     ]
    },
    {
     "name": "stderr",
     "output_type": "stream",
     "text": [
      "100%|██████████| 100/100 [02:37<00:00,  1.57s/it]\n"
     ]
    }
   ],
   "source": [
    "for repo in tqdm(response.json()['items']):\n",
    "    clone_url = repo['clone_url']\n",
    "    repo_name = repo['name']\n",
    "    path = os.path.join(os. getcwd(), 'data', repo_name)\n",
    "    try:\n",
    "        os.mkdir(path)\n",
    "    except FileExistsError:\n",
    "        continue\n",
    "    try:\n",
    "        git.Repo.clone_from(clone_url, path)\n",
    "    except git.exc.GitCommandError:\n",
    "        print(f'{repo_name} has a GitCommandError. Skipped.')\n",
    "        continue"
   ]
  },
  {
   "cell_type": "code",
   "execution_count": 29,
   "metadata": {},
   "outputs": [],
   "source": [
    "# deal with read-only .git folder\n",
    "def on_rm_error(func, path, exc_info):\n",
    "    os.chmod(path, stat.S_IWRITE)\n",
    "    os.unlink(path)\n",
    "\n",
    "path = os.path.join(os.getcwd(), 'data')\n",
    "for root, dirs, files in os.walk(path):\n",
    "    # remove .git folder\n",
    "    for d in dirs:\n",
    "        if d == '.git':\n",
    "            shutil.rmtree(os.path.join(root, d), onerror=on_rm_error)\n",
    "    # remove files not solidity\n",
    "    for f in files:\n",
    "        if not f.lower().endswith('.sol'):\n",
    "            os.remove(os.path.join(root, f))"
   ]
  }
 ],
 "metadata": {
  "kernelspec": {
   "display_name": "Python 3.10.3 64-bit",
   "language": "python",
   "name": "python3"
  },
  "language_info": {
   "codemirror_mode": {
    "name": "ipython",
    "version": 3
   },
   "file_extension": ".py",
   "mimetype": "text/x-python",
   "name": "python",
   "nbconvert_exporter": "python",
   "pygments_lexer": "ipython3",
   "version": "3.10.3"
  },
  "orig_nbformat": 4,
  "vscode": {
   "interpreter": {
    "hash": "369f2c481f4da34e4445cda3fffd2e751bd1c4d706f27375911949ba6bb62e1c"
   }
  }
 },
 "nbformat": 4,
 "nbformat_minor": 2
}
